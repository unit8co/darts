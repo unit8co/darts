{
 "cells": [
  {
   "cell_type": "code",
   "execution_count": null,
   "metadata": {
    "scrolled": true
   },
   "outputs": [],
   "source": [
    "%load_ext autoreload\n",
    "%autoreload 2\n",
    "%matplotlib inline\n",
    "import sys\n",
    "from u8timeseries import TimeSeries\n",
    "from u8timeseries.models import (\n",
    "    Prophet,\n",
    "    NaiveSeasonal,\n",
    "    ExponentialSmoothing,\n",
    "    ARIMA,\n",
    "    StandardRegressionModel,\n",
    "    Theta\n",
    ")\n",
    "from u8timeseries.metrics import mape, mase\n",
    "from u8timeseries.backtesting import (\n",
    "    backtest_forecasting,\n",
    "    backtest_regression,\n",
    "    # get_train_val_series,\n",
    "    # backtest_autoregressive_model\n",
    ")\n",
    "from u8timeseries.utils.statistics import check_seasonality, plot_acf\n",
    "\n",
    "import pandas as pd\n",
    "pd.__version__\n",
    "import numpy as np\n",
    "from datetime import datetime\n",
    "import time\n",
    "import matplotlib.pyplot as plt"
   ]
  },
  {
   "cell_type": "markdown",
   "metadata": {},
   "source": [
    "## Read data"
   ]
  },
  {
   "cell_type": "code",
   "execution_count": null,
   "metadata": {},
   "outputs": [],
   "source": [
    "df = pd.read_csv('AirPassengers.csv', delimiter=\",\")\n",
    "series = TimeSeries.from_dataframe(df, 'Month', '#Passengers')\n",
    "series.plot(lw=3)"
   ]
  },
  {
   "cell_type": "markdown",
   "metadata": {},
   "source": [
    "## Exploration"
   ]
  },
  {
   "cell_type": "markdown",
   "metadata": {},
   "source": [
    "Before building any kind of model, it is good to understand the characteristics of our TimeSeries.\n",
    "\n",
    "For example, the Air Passenger data seems to have a seasonal trend, with a yearly period. \n",
    "The existence of such a trend can be explored using the auto-correlation function (ACF)."
   ]
  },
  {
   "cell_type": "code",
   "execution_count": null,
   "metadata": {},
   "outputs": [],
   "source": [
    "plot_acf(series, m = 12, alpha = .05)"
   ]
  },
  {
   "cell_type": "markdown",
   "metadata": {},
   "source": [
    "The ACF presents a spike at x = 12, which suggests a yearly seasonality trend (highlighted in red). The blue zone determines the significance of the statistics for a confidence level of alpha = 5%.\n",
    "\n",
    "Even working with this very well-known case, one can see that the x = 11 value of the ACF is quite close to being a local maximum. Thus is it is useful to have a statistical check of seasonality against a particular value of the period m."
   ]
  },
  {
   "cell_type": "code",
   "execution_count": null,
   "metadata": {},
   "outputs": [],
   "source": [
    "for i in range(2, 13):\n",
    "    season, period = check_seasonality(series, m = i, alpha = .05)\n",
    "    \n",
    "    if season:\n",
    "        print('There is seasonality of order {}.'.format(period))\n",
    "    else:\n",
    "        print('There is no seasonality of order {}.'.format(period))"
   ]
  },
  {
   "cell_type": "markdown",
   "metadata": {},
   "source": [
    "A stastical check confirms our intuition!"
   ]
  },
  {
   "cell_type": "markdown",
   "metadata": {},
   "source": [
    "## Build three models"
   ]
  },
  {
   "cell_type": "code",
   "execution_count": null,
   "metadata": {},
   "outputs": [],
   "source": [
    "model_es = ExponentialSmoothing()\n",
    "model_pr = Prophet(yearly_seasonality=True)\n",
    "model_ar = ARIMA(2, 1, 5)\n",
    "model_bl = NaiveSeasonal(k=12)"
   ]
  },
  {
   "cell_type": "markdown",
   "metadata": {},
   "source": [
    "## Try one of the models\n",
    "Here we'll just do a one shot prediction. Prediction time will be 1957-01-01, and we'll forecast the rest of the time series from that point on.\n",
    "\n",
    "Definition: *prediction time* is the time *at which* a forecast is made, and *forecast time* is the time *for which* the forecast is made.\n",
    "\n",
    "For instance, in the example below, prediction time is 1957-01-01, and forecast time is the time range between 1957-02-01 and the end of the time series.\n",
    "\n",
    "The error will be measured using the MAPE error function."
   ]
  },
  {
   "cell_type": "code",
   "execution_count": null,
   "metadata": {},
   "outputs": [],
   "source": [
    "train, val = series.split_after(pd.Timestamp('19570101'))\n",
    "model_es.fit(train)\n",
    "pred = model_es.predict(len(val))\n",
    "\n",
    "print('The MAPE is: {:.3f}'.format(mape(val, pred)))"
   ]
  },
  {
   "cell_type": "code",
   "execution_count": null,
   "metadata": {},
   "outputs": [],
   "source": [
    "train.plot(lw=2, label='train')\n",
    "val.plot(lw=2, label='true')\n",
    "pred.plot(lw=2, label='prediction')\n",
    "plt.legend()"
   ]
  },
  {
   "cell_type": "markdown",
   "metadata": {},
   "source": [
    "## The Theta method"
   ]
  },
  {
   "cell_type": "markdown",
   "metadata": {},
   "source": [
    "The module theta.py contains an implementation of Assimakopoulos and Nikolopoulos' Theta method. This method has known great success, particularly in the M3-competition.\n",
    "\n",
    "Though the value of the Theta parameter is mainly set to 0 in applications, our implementation supports a variable value for parameter tuning purposes. As an example, we will apply this process to our Air Passenger data."
   ]
  },
  {
   "cell_type": "code",
   "execution_count": null,
   "metadata": {},
   "outputs": [],
   "source": [
    "# theta = 0 is the default parameter.\n",
    "model_theta_0 = Theta()\n",
    "\n",
    "# We know that there is a yearly seasonality, so we include the parameter season_period.\n",
    "model_theta_0.fit(train, season_period = 12)\n",
    "pred_theta_0 = model_theta_0.predict(len(val))\n",
    "\n",
    "print('The MAPE is: {:.3f}'.format(mape(val, pred_theta_0)))"
   ]
  },
  {
   "cell_type": "code",
   "execution_count": null,
   "metadata": {},
   "outputs": [],
   "source": [
    "train.plot(lw=2, label='train')\n",
    "val.plot(lw=2, label='true')\n",
    "pred_theta_0.plot(lw=2, label='prediction')\n",
    "plt.legend()"
   ]
  },
  {
   "cell_type": "markdown",
   "metadata": {},
   "source": [
    "Clearly this prediction not as good as the exponential smoothing above. But what about different values of theta?"
   ]
  },
  {
   "cell_type": "code",
   "execution_count": null,
   "metadata": {},
   "outputs": [],
   "source": [
    "# Search for the best theta parameter.\n",
    "thetas = np.linspace(-10, 10, 200)\n",
    "\n",
    "\n",
    "# The best configuration is, for now, the only one we know: with theta = 0, computed above.\n",
    "best_mape = 11\n",
    "best_theta = 0\n",
    "\n",
    "for theta in thetas:\n",
    "    model = Theta(theta)\n",
    "    model.fit(train, 12)\n",
    "    pred_theta = model.predict(len(val))\n",
    "    res = mape(val, pred_theta)\n",
    "    \n",
    "    if res < best_mape:\n",
    "        best_mape = res\n",
    "        best_theta = theta"
   ]
  },
  {
   "cell_type": "code",
   "execution_count": null,
   "metadata": {},
   "outputs": [],
   "source": [
    "model = Theta(best_theta)\n",
    "model.fit(train, 12)\n",
    "pred_best_theta = model.predict(len(val))\n",
    "\n",
    "print('The MAPE is: {:.3f}, with theta = {}.'.format(mape(val, pred_best_theta), best_theta))"
   ]
  },
  {
   "cell_type": "code",
   "execution_count": null,
   "metadata": {},
   "outputs": [],
   "source": [
    "train.plot(lw=2, label='train')\n",
    "val.plot(lw=2, label='true')\n",
    "pred_best_theta.plot(lw=2, label='prediction')\n",
    "plt.legend()\n",
    "plt.show()"
   ]
  },
  {
   "cell_type": "markdown",
   "metadata": {},
   "source": [
    "We can observe that the model with `best_theta` is so far the best we have, in terms of MAPE."
   ]
  },
  {
   "cell_type": "markdown",
   "metadata": {},
   "source": [
    "## Simulate historical forecasting\n",
    "Here we'll do some backtesting. We will simulate predictions that would have been done historically with a given model. It can take a while to produce, since the model is re-fit every time the simulated prediction time advances.\n",
    "\n",
    "Such simulated forecasts are always defined with respect to a *forecast horizon*, which is the number of time steps that separate the prediction time from the forecast time. In the example below, we simulate forecasts done for 6 months in the future (compared to prediction time)."
   ]
  },
  {
   "cell_type": "code",
   "execution_count": null,
   "metadata": {},
   "outputs": [],
   "source": [
    "historical_fcast = backtest_forecasting(series, model_es, pd.Timestamp('19570101'), fcast_horizon_n=6, verbose=True)"
   ]
  },
  {
   "cell_type": "markdown",
   "metadata": {},
   "source": [
    "Let's see what this backtest forecast looks like. You can see it produces more accurate predictions than the one-off prediction done above, because here the model is re-fit every month."
   ]
  },
  {
   "cell_type": "code",
   "execution_count": null,
   "metadata": {},
   "outputs": [],
   "source": [
    "plt.figure(figsize=(8,6))\n",
    "series.plot(label='data')\n",
    "historical_fcast.plot(lw=3, label='backtest 6-months ahead forecast')\n",
    "plt.legend()"
   ]
  },
  {
   "cell_type": "markdown",
   "metadata": {},
   "source": [
    "## Backtest the models on the data using a user-defined metric\n",
    "Here we'll do slightly more advanced backtesting, and use our own metric (in this case the MAPE error function) to compare the different models. We'll simulate 12-months ahead predictions done in the past, starting in January 1955, and the errors will be computed on the 12-months period for which forecasts are done."
   ]
  },
  {
   "cell_type": "code",
   "execution_count": null,
   "metadata": {},
   "outputs": [],
   "source": [
    "def backtest_model(model):\n",
    "    tic = time.time()\n",
    "    train_val_series = get_train_val_series(series, start=pd.Timestamp('19550101'), nr_points_val=12)\n",
    "    res = backtest_autoregressive_model(model, train_val_series, mape)\n",
    "    tac = time.time()\n",
    "    print('Backtest done in %.2f s.' % (tac-tic))\n",
    "    return res"
   ]
  },
  {
   "cell_type": "code",
   "execution_count": null,
   "metadata": {},
   "outputs": [],
   "source": [
    "res_es = backtest_model(model_es)\n",
    "res_pr = backtest_model(model_pr)\n",
    "res_bl = backtest_model(model_bl)"
   ]
  },
  {
   "cell_type": "markdown",
   "metadata": {},
   "source": [
    "### Plot the user-defined backtesting results"
   ]
  },
  {
   "cell_type": "code",
   "execution_count": null,
   "metadata": {},
   "outputs": [],
   "source": [
    "plt.hist(res_es, bins=50, cumulative=True, histtype='step', \n",
    "         lw=2, label='Exponential Smoothing');\n",
    "plt.hist(res_pr, bins=50, cumulative=True, histtype='step', \n",
    "         lw=2, label='Prophet');\n",
    "plt.hist(res_bl, bins=50, cumulative=True, histtype='step', \n",
    "         lw=2, label='Baseline');\n",
    "\n",
    "plt.xlabel('Mean absolute percentage error (%)')\n",
    "plt.ylabel('CDF')\n",
    "plt.legend(loc=4)"
   ]
  },
  {
   "cell_type": "markdown",
   "metadata": {},
   "source": [
    "### Let's make an actual forecast!\n",
    "Since Exponential Smoothing is better in backtests, let's use this one."
   ]
  },
  {
   "cell_type": "code",
   "execution_count": null,
   "metadata": {},
   "outputs": [],
   "source": [
    "model_es.fit(series)\n",
    "pred = model_es.predict(n = 50)\n",
    "\n",
    "series.plot(label='data', lw=2)\n",
    "pred.plot(label='forecast', lw=2)\n",
    "plt.legend()"
   ]
  },
  {
   "cell_type": "markdown",
   "metadata": {},
   "source": [
    "## Ensembling several predictions\n",
    "### Let's simulate forecasts done by an ensemble of models"
   ]
  },
  {
   "cell_type": "code",
   "execution_count": null,
   "metadata": {},
   "outputs": [],
   "source": [
    "\"\"\" New way - backtest over time\n",
    "\"\"\"\n",
    "models = [ExponentialSmoothing(), Prophet(yearly_seasonality=True)]\n",
    "\n",
    "historical_ar_preds = [simulate_forecast_ar(series, m, pd.Timestamp('19570101'), fcast_horizon_n=6, verbose=True)\n",
    "                       for m in models]"
   ]
  },
  {
   "cell_type": "code",
   "execution_count": null,
   "metadata": {},
   "outputs": [],
   "source": [
    "\"\"\" Combine the individual simulated predicitons\n",
    "\"\"\"\n",
    "regrModel = StandardRegressionModel(train_n_points=12)\n",
    "\n",
    "series_val = series[series.intersect(historical_ar_preds[0])]\n",
    "\n",
    "historical_pred = backtest_regression(historical_ar_preds, series_val, regrModel,\n",
    "                                      pd.Timestamp('19580101'), fcast_horizon_n=6)"
   ]
  },
  {
   "cell_type": "code",
   "execution_count": null,
   "metadata": {},
   "outputs": [],
   "source": [
    "\"\"\" Compute errors and plot\n",
    "\"\"\"\n",
    "plt.figure(figsize=(8,5))\n",
    "\n",
    "series.plot()\n",
    "hist_index = series.intersect(historical_pred)\n",
    "for i, m in enumerate(models):\n",
    "    historical_ar_preds[i].plot(label=str(m))\n",
    "    \n",
    "    # intersect last part, to compare everything with ensemble\n",
    "    ar_pred = historical_ar_preds[i][hist_index]\n",
    "       \n",
    "    mape_er = mape(series[hist_index], ar_pred)\n",
    "    print('MAPE Error {}: {}'.format(m, mape_er))\n",
    "\n",
    "print('MAPE Error ensemble: {}'.format(mape(series[hist_index], historical_pred)))\n",
    "\n",
    "historical_pred.plot(label='Ensemble')\n",
    "\n",
    "plt.legend()"
   ]
  },
  {
   "cell_type": "code",
   "execution_count": null,
   "metadata": {},
   "outputs": [],
   "source": []
  },
  {
   "cell_type": "markdown",
   "metadata": {},
   "source": [
    "## Example of forecasting using a regressive model and extra features"
   ]
  },
  {
   "cell_type": "code",
   "execution_count": null,
   "metadata": {},
   "outputs": [],
   "source": []
  }
 ],
 "metadata": {
  "kernelspec": {
   "display_name": "Python 3",
   "language": "python",
   "name": "python3"
  },
  "language_info": {
   "codemirror_mode": {
    "name": "ipython",
    "version": 3
   },
   "file_extension": ".py",
   "mimetype": "text/x-python",
   "name": "python",
   "nbconvert_exporter": "python",
   "pygments_lexer": "ipython3",
   "version": "3.7.6"
  }
 },
 "nbformat": 4,
 "nbformat_minor": 2
}
