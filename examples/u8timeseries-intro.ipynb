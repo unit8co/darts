{
 "cells": [
  {
   "cell_type": "markdown",
   "metadata": {},
   "source": [
    "# `u8timeseries` Intro"
   ]
  },
  {
   "cell_type": "code",
   "execution_count": null,
   "metadata": {},
   "outputs": [],
   "source": [
    "%load_ext autoreload\n",
    "%autoreload 2\n",
    "%matplotlib inline"
   ]
  },
  {
   "cell_type": "code",
   "execution_count": null,
   "metadata": {},
   "outputs": [],
   "source": [
    "import pandas as pd\n",
    "import numpy as np\n",
    "\n",
    "from u8timeseries import TimeSeries"
   ]
  },
  {
   "cell_type": "markdown",
   "metadata": {},
   "source": [
    "## `TimeSeries` Creation\n",
    "### From a `pd.Series`:"
   ]
  },
  {
   "cell_type": "code",
   "execution_count": null,
   "metadata": {},
   "outputs": [],
   "source": [
    "pdseries = pd.Series(np.sin(range(30)), index=pd.date_range('20130101', '20130130'))\n",
    "series = TimeSeries(pdseries)"
   ]
  },
  {
   "cell_type": "markdown",
   "metadata": {},
   "source": [
    "### From a `pd.DataFrame`:"
   ]
  },
  {
   "cell_type": "code",
   "execution_count": null,
   "metadata": {},
   "outputs": [],
   "source": [
    "df = pd.DataFrame({'Date': pd.date_range('20130101', '20130130'), 'Value': np.sin(range(30))})\n",
    "\n",
    "df.head()"
   ]
  },
  {
   "cell_type": "code",
   "execution_count": null,
   "metadata": {},
   "outputs": [],
   "source": [
    "series = TimeSeries.from_dataframe(df, time_col='Date', value_col='Value')"
   ]
  },
  {
   "cell_type": "markdown",
   "metadata": {},
   "source": [
    "### From times and values directly:"
   ]
  },
  {
   "cell_type": "code",
   "execution_count": null,
   "metadata": {},
   "outputs": [],
   "source": [
    "series = TimeSeries.from_times_and_values(pd.date_range('20130101', '20130130'), np.sin(range(30)))"
   ]
  },
  {
   "cell_type": "markdown",
   "metadata": {},
   "source": [
    "### Using pre-defined `TimeSeries` generators:"
   ]
  },
  {
   "cell_type": "code",
   "execution_count": null,
   "metadata": {},
   "outputs": [],
   "source": [
    "from u8timeseries.utils import timeseries_generation as tg\n",
    "\n",
    "tg.sine_timeseries(length=70).plot()\n",
    "tg.us_holiday_timeseries(length=70).plot()\n",
    "(tg.linear_timeseries(length=70) / 100.).plot()"
   ]
  },
  {
   "cell_type": "markdown",
   "metadata": {},
   "source": [
    "## More on `TimeSeries`\n",
    "### Plotting\n",
    "wrapper around `pd.Series.plot()`"
   ]
  },
  {
   "cell_type": "code",
   "execution_count": null,
   "metadata": {},
   "outputs": [],
   "source": [
    "series.plot()"
   ]
  },
  {
   "cell_type": "markdown",
   "metadata": {},
   "source": [
    "### Confidence Intervals"
   ]
  },
  {
   "cell_type": "code",
   "execution_count": null,
   "metadata": {},
   "outputs": [],
   "source": [
    "pdseries_low = pd.Series(np.sin(range(30)) - 0.3, index=pd.date_range('20130101', '20130130'))\n",
    "pdseries_up = pd.Series(np.sin(range(30)) + 0.3, index=pd.date_range('20130101', '20130130'))\n",
    "\n",
    "series_conf = TimeSeries(pdseries, pdseries_low, pdseries_up)\n",
    "\n",
    "series_conf.plot()"
   ]
  },
  {
   "cell_type": "markdown",
   "metadata": {},
   "source": [
    "### Drop, Slice, split"
   ]
  },
  {
   "cell_type": "code",
   "execution_count": null,
   "metadata": {},
   "outputs": [],
   "source": [
    "# Drop end:\n",
    "series.plot()\n",
    "beginning = series.drop_after(pd.Timestamp('20130115'))\n",
    "beginning.plot(marker='o', lw=3, alpha=0.5)"
   ]
  },
  {
   "cell_type": "code",
   "execution_count": null,
   "metadata": {},
   "outputs": [],
   "source": [
    "# Slice\n",
    "subseries = series.slice(pd.Timestamp('20130107'), pd.Timestamp('20130114'))\n",
    "series.plot()\n",
    "subseries.plot(marker='o', lw=4, alpha=0.5)"
   ]
  },
  {
   "cell_type": "code",
   "execution_count": null,
   "metadata": {},
   "outputs": [],
   "source": [
    "# Split\n",
    "s1, s2 = series.split_after(pd.Timestamp('20130110'))\n",
    "s1.plot()\n",
    "s2.plot()"
   ]
  },
  {
   "cell_type": "markdown",
   "metadata": {},
   "source": [
    "### Intersect (in time)"
   ]
  },
  {
   "cell_type": "code",
   "execution_count": null,
   "metadata": {},
   "outputs": [],
   "source": [
    "series1 = TimeSeries(pd.Series(np.sin(range(32)), index=pd.date_range('20130115', '20130215')))\n",
    "series2 = TimeSeries(pd.Series(np.cos(range(28)), index=pd.date_range('20130201', '20130228')))\n",
    "\n",
    "series1.plot()\n",
    "series2.plot()\n",
    "\n",
    "slice_series = series1.slice_intersect(series2)\n",
    "slice_series.plot(lw=5, alpha=0.3)"
   ]
  },
  {
   "cell_type": "markdown",
   "metadata": {},
   "source": [
    "`TimeSeries.intersect()` returns a slice of the time index, which can then be used for indexing:"
   ]
  },
  {
   "cell_type": "code",
   "execution_count": null,
   "metadata": {},
   "outputs": [],
   "source": [
    "series1.plot()\n",
    "series2.plot()\n",
    "\n",
    "# no idea the intent here\n",
    "series2[series1.intersect(series2)].plot(lw=5, alpha=0.3)"
   ]
  },
  {
   "cell_type": "markdown",
   "metadata": {},
   "source": [
    "# Auto-regressive Models"
   ]
  },
  {
   "cell_type": "code",
   "execution_count": null,
   "metadata": {},
   "outputs": [],
   "source": [
    "df = pd.read_csv('AirPassengers.csv')\n",
    "series = TimeSeries.from_dataframe(df, 'Month', '#Passengers')\n",
    "series.plot()"
   ]
  },
  {
   "cell_type": "code",
   "execution_count": null,
   "metadata": {},
   "outputs": [],
   "source": [
    "from u8timeseries import Theta, ExponentialSmoothing\n",
    "\n",
    "train, val = series.split_after(pd.Timestamp('19580101'))\n",
    "\n",
    "model_theta = Theta(theta=4)\n",
    "model_ets = ExponentialSmoothing()\n",
    "\n",
    "model_theta.fit(train)\n",
    "model_ets.fit(train)\n",
    "\n",
    "pred_val_theta = model_theta.predict(len(val))\n",
    "pred_val_ets = model_ets.predict(len(val))"
   ]
  },
  {
   "cell_type": "code",
   "execution_count": null,
   "metadata": {},
   "outputs": [],
   "source": [
    "from u8timeseries import KthValueAgoBaseline\n",
    "\n",
    "model_kth = KthValueAgoBaseline(k=1)\n",
    "model_kth.fit(train)\n",
    "pred = model_kth.predict(len(val))\n",
    "\n",
    "series.plot()\n",
    "pred.plot()"
   ]
  },
  {
   "cell_type": "code",
   "execution_count": null,
   "metadata": {},
   "outputs": [],
   "source": [
    "from u8timeseries.metrics import mape\n",
    "import matplotlib.pyplot as plt\n",
    "\n",
    "series.plot(label='actual')\n",
    "pred_val_theta.plot(label='Theta')\n",
    "pred_val_ets.plot(label='ETS')\n",
    "plt.legend()\n",
    "\n",
    "print('MAPE error Theta = {}'.format(mape(series.slice_intersect(pred_val_theta), pred_val_theta)))\n",
    "print('MAPE error ETS = {}'.format(mape(series.slice_intersect(pred_val_ets), pred_val_ets)))"
   ]
  },
  {
   "cell_type": "markdown",
   "metadata": {},
   "source": [
    "### Backtesting"
   ]
  },
  {
   "cell_type": "code",
   "execution_count": null,
   "metadata": {},
   "outputs": [],
   "source": [
    "from u8timeseries.backtesting import simulate_forecast_ar\n",
    "\n",
    "historical_fcast = simulate_forecast_ar(series, model_ets, pd.Timestamp('19570601'), fcast_horizon_n=6, verbose=True)"
   ]
  },
  {
   "cell_type": "code",
   "execution_count": null,
   "metadata": {},
   "outputs": [],
   "source": [
    "series.plot(lw=2, alpha=0.5)\n",
    "historical_fcast.plot()"
   ]
  },
  {
   "cell_type": "markdown",
   "metadata": {},
   "source": [
    "### Metrics"
   ]
  },
  {
   "cell_type": "code",
   "execution_count": null,
   "metadata": {},
   "outputs": [],
   "source": [
    "from u8timeseries.metrics import mape, mase\n",
    "\n",
    "slice_series = series.intersect(historical_fcast)\n",
    "mape(series[slice_series], historical_fcast[slice_series])"
   ]
  },
  {
   "cell_type": "code",
   "execution_count": null,
   "metadata": {},
   "outputs": [],
   "source": []
  }
 ],
 "metadata": {
  "kernelspec": {
   "display_name": "Python 3",
   "language": "python",
   "name": "python3"
  },
  "language_info": {
   "codemirror_mode": {
    "name": "ipython",
    "version": 3
   },
   "file_extension": ".py",
   "mimetype": "text/x-python",
   "name": "python",
   "nbconvert_exporter": "python",
   "pygments_lexer": "ipython3",
   "version": "3.7.6"
  },
  "pycharm": {
   "stem_cell": {
    "cell_type": "raw",
    "metadata": {
     "collapsed": false
    },
    "source": []
   }
  }
 },
 "nbformat": 4,
 "nbformat_minor": 2
}
