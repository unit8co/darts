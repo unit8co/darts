{
 "cells": [
  {
   "cell_type": "code",
   "execution_count": 1,
   "metadata": {},
   "outputs": [],
   "source": [
    "# fix python path if working locally\n",
    "from utils import fix_pythonpath_if_working_locally\n",
    "fix_pythonpath_if_working_locally()"
   ]
  },
  {
   "cell_type": "code",
   "execution_count": 2,
   "metadata": {},
   "outputs": [],
   "source": [
    "import numpy as np\n",
    "import pandas as pd\n",
    "from darts import TimeSeries"
   ]
  },
  {
   "cell_type": "code",
   "execution_count": 3,
   "metadata": {},
   "outputs": [
    {
     "data": {
      "text/plain": [
       "              0    1    2\n",
       "Month                    \n",
       "1949-01-01  112  112  112\n",
       "1949-02-01  118  118  118\n",
       "1949-03-01  132  132  132\n",
       "1949-04-01  129  129  129\n",
       "1949-05-01  121  121  121\n",
       "...         ...  ...  ...\n",
       "1960-08-01  606  606  606\n",
       "1960-09-01  508  508  508\n",
       "1960-10-01  461  461  461\n",
       "1960-11-01  390  390  390\n",
       "1960-12-01  432  432  432\n",
       "\n",
       "[144 rows x 3 columns]\n",
       "Freq: MS"
      ]
     },
     "execution_count": 3,
     "metadata": {},
     "output_type": "execute_result"
    }
   ],
   "source": [
    "df = pd.read_csv('AirPassengers.csv', delimiter=\",\")\n",
    "series = TimeSeries.from_dataframe(df, 'Month', ['#Passengers','#Passengers','#Passengers'])\n",
    "series"
   ]
  },
  {
   "cell_type": "code",
   "execution_count": 4,
   "metadata": {},
   "outputs": [
    {
     "data": {
      "text/plain": [
       "                   0         1         2\n",
       "Month                                   \n",
       "1949-01-01 -0.889996 -0.889996 -0.889996\n",
       "1949-02-01 -0.981952 -0.981952 -0.981952\n",
       "1949-03-01  0.053084  0.053084  0.053084\n",
       "1949-04-01 -0.193473 -0.193473 -0.193473\n",
       "1949-05-01  0.998815  0.998815  0.998815\n",
       "...              ...       ...       ...\n",
       "1960-08-01  0.321565  0.321565  0.321565\n",
       "1960-09-01 -0.806383 -0.806383 -0.806383\n",
       "1960-10-01  0.727122  0.727122  0.727122\n",
       "1960-11-01  0.428210  0.428210  0.428210\n",
       "1960-12-01 -0.999519 -0.999519 -0.999519\n",
       "\n",
       "[144 rows x 3 columns]\n",
       "Freq: MS"
      ]
     },
     "execution_count": 4,
     "metadata": {},
     "output_type": "execute_result"
    }
   ],
   "source": [
    "new_series = series.map(np.sin)\n",
    "new_series"
   ]
  },
  {
   "cell_type": "code",
   "execution_count": 5,
   "metadata": {},
   "outputs": [
    {
     "data": {
      "text/plain": [
       "              0         1    2\n",
       "Month                         \n",
       "1949-01-01  112 -0.889996  112\n",
       "1949-02-01  118 -0.981952  118\n",
       "1949-03-01  132  0.053084  132\n",
       "1949-04-01  129 -0.193473  129\n",
       "1949-05-01  121  0.998815  121\n",
       "...         ...       ...  ...\n",
       "1960-08-01  606  0.321565  606\n",
       "1960-09-01  508 -0.806383  508\n",
       "1960-10-01  461  0.727122  461\n",
       "1960-11-01  390  0.428210  390\n",
       "1960-12-01  432 -0.999519  432\n",
       "\n",
       "[144 rows x 3 columns]\n",
       "Freq: MS"
      ]
     },
     "execution_count": 5,
     "metadata": {},
     "output_type": "execute_result"
    }
   ],
   "source": [
    "new_series = series.map(np.sin, 1)\n",
    "new_series"
   ]
  },
  {
   "cell_type": "code",
   "execution_count": 6,
   "metadata": {},
   "outputs": [
    {
     "data": {
      "text/plain": [
       "              0         1    2\n",
       "Month                         \n",
       "1949-01-01  112 -0.889996  112\n",
       "1949-02-01  118 -0.981952  118\n",
       "1949-03-01  132  0.053084  132\n",
       "1949-04-01  129 -0.193473  129\n",
       "1949-05-01  121  0.998815  121\n",
       "...         ...       ...  ...\n",
       "1960-08-01  606  0.321565  606\n",
       "1960-09-01  508 -0.806383  508\n",
       "1960-10-01  461  0.727122  461\n",
       "1960-11-01  390  0.428210  390\n",
       "1960-12-01  432 -0.999519  432\n",
       "\n",
       "[144 rows x 3 columns]\n",
       "Freq: MS"
      ]
     },
     "execution_count": 6,
     "metadata": {},
     "output_type": "execute_result"
    }
   ],
   "source": [
    "new_series = series.map(np.sin, [1])\n",
    "new_series"
   ]
  },
  {
   "cell_type": "code",
   "execution_count": 7,
   "metadata": {},
   "outputs": [
    {
     "data": {
      "text/plain": [
       "                   0         1    2\n",
       "Month                              \n",
       "1949-01-01 -0.889996 -0.889996  112\n",
       "1949-02-01 -0.981952 -0.981952  118\n",
       "1949-03-01  0.053084  0.053084  132\n",
       "1949-04-01 -0.193473 -0.193473  129\n",
       "1949-05-01  0.998815  0.998815  121\n",
       "...              ...       ...  ...\n",
       "1960-08-01  0.321565  0.321565  606\n",
       "1960-09-01 -0.806383 -0.806383  508\n",
       "1960-10-01  0.727122  0.727122  461\n",
       "1960-11-01  0.428210  0.428210  390\n",
       "1960-12-01 -0.999519 -0.999519  432\n",
       "\n",
       "[144 rows x 3 columns]\n",
       "Freq: MS"
      ]
     },
     "execution_count": 7,
     "metadata": {},
     "output_type": "execute_result"
    }
   ],
   "source": [
    "new_series = series.map(np.sin,[0,1])\n",
    "new_series"
   ]
  },
  {
   "cell_type": "code",
   "execution_count": 8,
   "metadata": {},
   "outputs": [
    {
     "name": "stdout",
     "output_type": "stream",
     "text": [
      "Help on method map in module darts.timeseries:\n",
      "\n",
      "map(fn: Callable[[float], float], cols: Union[List[int], int, NoneType] = None) -> 'TimeSeries' method of darts.timeseries.TimeSeries instance\n",
      "    Applies the function fn to all values in this TimeSeries, or, to only those\n",
      "    values in the columns specified by the optional argument cols. Returns a new\n",
      "    TimeSeries instance.\n",
      "    \n",
      "    Parameters\n",
      "    ----------\n",
      "    fn\n",
      "        A numerical function\n",
      "    cols\n",
      "        Optionally, an integer or list of integers specifying the column(s) onto which fn should be applied\n",
      "    \n",
      "    Returns\n",
      "    -------\n",
      "    TimeSeries\n",
      "        A new TimeSeries instance\n",
      "\n"
     ]
    }
   ],
   "source": [
    "help(series.map)"
   ]
  },
  {
   "cell_type": "code",
   "execution_count": null,
   "metadata": {},
   "outputs": [],
   "source": []
  },
  {
   "cell_type": "code",
   "execution_count": null,
   "metadata": {},
   "outputs": [],
   "source": []
  }
 ],
 "metadata": {
  "kernelspec": {
   "display_name": "Python 3",
   "language": "python",
   "name": "python3"
  },
  "language_info": {
   "codemirror_mode": {
    "name": "ipython",
    "version": 3
   },
   "file_extension": ".py",
   "mimetype": "text/x-python",
   "name": "python",
   "nbconvert_exporter": "python",
   "pygments_lexer": "ipython3",
   "version": "3.7.6"
  }
 },
 "nbformat": 4,
 "nbformat_minor": 4
}
