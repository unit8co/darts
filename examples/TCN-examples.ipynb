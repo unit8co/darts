{
 "cells": [
  {
   "cell_type": "markdown",
   "metadata": {},
   "source": [
    "# Temporal Convolutional Network\n",
    "In this notebook, we show an example of how TCNs can be used with darts."
   ]
  },
  {
   "cell_type": "code",
   "execution_count": null,
   "metadata": {},
   "outputs": [],
   "source": [
    "import numpy as np\n",
    "import pandas as pd\n",
    "import matplotlib.pyplot as plt\n",
    "\n",
    "from darts import TimeSeries\n",
    "from darts.models.tcn_model import TCNModel\n",
    "from darts.preprocessing import ScalerWrapper\n",
    "from darts.metrics import mape\n",
    "from darts.utils.missing_values import auto_fillna\n",
    "from darts.backtesting import backtest_forecasting"
   ]
  },
  {
   "cell_type": "code",
   "execution_count": null,
   "metadata": {},
   "outputs": [],
   "source": [
    "# Read data:\n",
    "df = pd.read_csv('AirPassengers.csv', delimiter=\",\")\n",
    "ts = TimeSeries.from_dataframe(df, 'Month', '#Passengers')\n",
    "\n",
    "# Create training and validation sets:\n",
    "train, val = ts.split_after(pd.Timestamp('19580801'))"
   ]
  },
  {
   "cell_type": "code",
   "execution_count": null,
   "metadata": {},
   "outputs": [],
   "source": [
    "transformer = ScalerWrapper()\n",
    "train_transformed = transformer.fit_transform(train)\n",
    "val_transformed = transformer.transform(val)\n",
    "ts_transformed = transformer.transform(ts)"
   ]
  },
  {
   "cell_type": "code",
   "execution_count": null,
   "metadata": {},
   "outputs": [],
   "source": [
    "my_model = TCNModel(\n",
    "    n_epochs=1000, \n",
    "    input_length=20, \n",
    "    output_length=5, \n",
    "    dropout=0.1, \n",
    "    dilation_base=2, \n",
    "    weight_norm=True,\n",
    "    kernel_size=5,\n",
    "    num_filters=3\n",
    ")"
   ]
  },
  {
   "cell_type": "code",
   "execution_count": null,
   "metadata": {},
   "outputs": [],
   "source": [
    "my_model.fit(train_transformed, val_series=val_transformed, verbose=True)"
   ]
  },
  {
   "cell_type": "code",
   "execution_count": null,
   "metadata": {},
   "outputs": [],
   "source": [
    "def eval_model(model):\n",
    "    pred_series = model.predict(n=26)\n",
    "    print(len(pred_series))\n",
    "    plt.figure(figsize=(8,5))\n",
    "    ts_transformed.plot(label='actual')\n",
    "    pred_series.plot(label='forecast')\n",
    "    plt.title('MAPE: {}'.format(mape(pred_series.slice_intersect(val_transformed), val_transformed)))\n",
    "    plt.legend();\n",
    "    \n",
    "eval_model(my_model)"
   ]
  }
 ],
 "metadata": {
  "kernelspec": {
   "display_name": "Python 3",
   "language": "python",
   "name": "python3"
  },
  "language_info": {
   "codemirror_mode": {
    "name": "ipython",
    "version": 3
   },
   "file_extension": ".py",
   "mimetype": "text/x-python",
   "name": "python",
   "nbconvert_exporter": "python",
   "pygments_lexer": "ipython3",
   "version": "3.7.6"
  }
 },
 "nbformat": 4,
 "nbformat_minor": 4
}
