{
 "cells": [
  {
   "cell_type": "code",
   "execution_count": null,
   "metadata": {},
   "outputs": [],
   "source": [
    "%load_ext autoreload\n",
    "%autoreload 2\n",
    "%matplotlib inline"
   ]
  },
  {
   "cell_type": "code",
   "execution_count": null,
   "metadata": {
    "scrolled": true
   },
   "outputs": [],
   "source": [
    "import sys\n",
    "from u8timeseries import TimeSeries\n",
    "from u8timeseries.models import (\n",
    "    Prophet,\n",
    "    NaiveSeasonal,\n",
    "    ExponentialSmoothing,\n",
    "    AutoARIMA,\n",
    "    Theta,\n",
    "    RNNModel\n",
    ")\n",
    "from u8timeseries.metrics import mase\n",
    "from u8timeseries.utils.statistics import check_seasonality, plot_acf\n",
    "from u8timeseries.utils.missing_values import auto_fillna\n",
    "\n",
    "import pandas as pd\n",
    "import numpy as np\n",
    "from datetime import datetime\n",
    "import time\n",
    "import matplotlib.pyplot as plt"
   ]
  },
  {
   "cell_type": "code",
   "execution_count": null,
   "metadata": {},
   "outputs": [],
   "source": [
    "import torch\n",
    "import torch.nn as nn"
   ]
  },
  {
   "cell_type": "markdown",
   "metadata": {},
   "source": [
    "## Read data"
   ]
  },
  {
   "cell_type": "code",
   "execution_count": null,
   "metadata": {},
   "outputs": [],
   "source": [
    "# no idea which file should be here\n",
    "df = pd.read_csv('dataset/daily-max-temperature.csv', delimiter=\",\")\n",
    "series = TimeSeries.from_dataframe(df, 'Date', 'Temperature')\n",
    "series.plot(lw=3)"
   ]
  },
  {
   "cell_type": "markdown",
   "metadata": {},
   "source": [
    "__Missing dates are present, detected and inserted__"
   ]
  },
  {
   "cell_type": "code",
   "execution_count": null,
   "metadata": {},
   "outputs": [],
   "source": [
    "series['19841201':'19850107'].plot()"
   ]
  },
  {
   "cell_type": "code",
   "execution_count": null,
   "metadata": {},
   "outputs": [],
   "source": [
    "series = auto_fillna(series, interpolate='linear')"
   ]
  },
  {
   "cell_type": "code",
   "execution_count": null,
   "metadata": {},
   "outputs": [],
   "source": [
    "series['19841201':'19850107'].plot()"
   ]
  },
  {
   "cell_type": "markdown",
   "metadata": {},
   "source": [
    "## Exploration"
   ]
  },
  {
   "cell_type": "markdown",
   "metadata": {},
   "source": [
    "Before building any kind of model, it is good to understand the characteristics of our TimeSeries.\n",
    "\n",
    "The data seems to have a seasonal trend, with a yearly period. \n",
    "The existence of such a trend can be explored using the auto-correlation function (ACF).\n",
    "\n",
    "The result is noisy (due to the high frequency in the original data), but the yearly period can be observed"
   ]
  },
  {
   "cell_type": "code",
   "execution_count": null,
   "metadata": {
    "scrolled": true
   },
   "outputs": [],
   "source": [
    "plot_acf(series, m = 365, alpha = .05, max_lag=400)"
   ]
  },
  {
   "cell_type": "code",
   "execution_count": null,
   "metadata": {},
   "outputs": [],
   "source": [
    "plot_pacf(series, alpha = .05, max_lag=40)  # TODO: do we need to low-pass filter the result?"
   ]
  },
  {
   "cell_type": "markdown",
   "metadata": {},
   "source": [
    "The noise can lead to false detection."
   ]
  },
  {
   "cell_type": "code",
   "execution_count": null,
   "metadata": {},
   "outputs": [],
   "source": [
    "for i in range(2, 380):\n",
    "    season, period = check_seasonality(series, m = i, alpha = .05, max_lag=400)\n",
    "    \n",
    "    if season:\n",
    "        print('There is seasonality of order {}.'.format(period))"
   ]
  },
  {
   "cell_type": "markdown",
   "metadata": {},
   "source": [
    "A stastical check confirms our intuition!"
   ]
  },
  {
   "cell_type": "markdown",
   "metadata": {},
   "source": [
    "## Build three models"
   ]
  },
  {
   "cell_type": "code",
   "execution_count": null,
   "metadata": {},
   "outputs": [],
   "source": [
    "model_es = ExponentialSmoothing(seasonal_periods=365)\n",
    "model_pr = Prophet(yearly_seasonality=True)\n",
    "model_ar = AutoARIMA()\n",
    "model_bl = NaiveSeasonal(k=365)"
   ]
  },
  {
   "cell_type": "markdown",
   "metadata": {},
   "source": [
    "## Try one of the models\n",
    "Here we'll just do a one shot prediction. Prediction time will be 1957-01-01, and we'll forecast the rest of the time series from that point on.\n",
    "\n",
    "Definition: *prediction time* is the time *at which* a forecast is made, and *forecast time* is the time *for which* the forecast is made.\n",
    "\n",
    "For instance, in the example below, prediction time is 1957-01-01, and forecast time is the time range between 1957-02-01 and the end of the time series.\n",
    "\n",
    "The error will be measured using the MAPE error function."
   ]
  },
  {
   "cell_type": "markdown",
   "metadata": {},
   "source": [
    "### baseline"
   ]
  },
  {
   "cell_type": "code",
   "execution_count": null,
   "metadata": {},
   "outputs": [],
   "source": [
    "train, val = series.split_after(pd.Timestamp('19890101'))\n",
    "model_bl.fit(train)\n",
    "pred = model_bl.predict(len(val))\n",
    "\n",
    "print('The MASE is: {:.3f}'.format(mase(val, pred, 365)))"
   ]
  },
  {
   "cell_type": "code",
   "execution_count": null,
   "metadata": {},
   "outputs": [],
   "source": [
    "train.plot(lw=2, label='train')\n",
    "val.plot(lw=2, label='true')\n",
    "pred.plot(lw=2, label='prediction')\n",
    "plt.legend()"
   ]
  },
  {
   "cell_type": "markdown",
   "metadata": {},
   "source": [
    "### exponential smoothing"
   ]
  },
  {
   "cell_type": "code",
   "execution_count": null,
   "metadata": {},
   "outputs": [],
   "source": [
    "train, val = series.split_after(pd.Timestamp('19890101'))\n",
    "model_es.fit(train)\n",
    "pred = model_es.predict(len(val))\n",
    "\n",
    "print('The MASE is: {:.3f}'.format(mase(val, pred, 365)))"
   ]
  },
  {
   "cell_type": "code",
   "execution_count": null,
   "metadata": {},
   "outputs": [],
   "source": [
    "train.plot(lw=2, label='train')\n",
    "val.plot(lw=2, label='true')\n",
    "pred.plot(lw=2, label='prediction')\n",
    "plt.legend()"
   ]
  },
  {
   "cell_type": "markdown",
   "metadata": {},
   "source": [
    "### Prophet"
   ]
  },
  {
   "cell_type": "code",
   "execution_count": null,
   "metadata": {},
   "outputs": [],
   "source": [
    "train, val = series.split_after(pd.Timestamp('19890101'))\n",
    "model_pr.fit(train)\n",
    "pred = model_pr.predict(len(val))\n",
    "\n",
    "print('The MASE is: {:.3f}'.format(mase(val, pred, 365)))"
   ]
  },
  {
   "cell_type": "code",
   "execution_count": null,
   "metadata": {},
   "outputs": [],
   "source": [
    "train.plot(lw=2, label='train')\n",
    "val.plot(lw=2, label='true')\n",
    "pred.plot(lw=2, label='prediction')\n",
    "plt.legend()"
   ]
  },
  {
   "cell_type": "markdown",
   "metadata": {},
   "source": [
    "### arima"
   ]
  },
  {
   "cell_type": "code",
   "execution_count": null,
   "metadata": {},
   "outputs": [],
   "source": [
    "train, val = series.split_after(pd.Timestamp('19890101'))\n",
    "model_ar.fit(train)\n",
    "pred = model_ar.predict(len(val))\n",
    "\n",
    "print('The MASE is: {:.3f}'.format(mase(val, pred, 365)))"
   ]
  },
  {
   "cell_type": "code",
   "execution_count": null,
   "metadata": {},
   "outputs": [],
   "source": [
    "train.plot(lw=2, label='train')\n",
    "val.plot(lw=2, label='true')\n",
    "pred.plot(lw=2, label='prediction')\n",
    "plt.legend()"
   ]
  },
  {
   "cell_type": "markdown",
   "metadata": {},
   "source": [
    "## The Theta method"
   ]
  },
  {
   "cell_type": "markdown",
   "metadata": {},
   "source": [
    "The module theta.py contains an implementation of Assimakopoulos and Nikolopoulos' Theta method. This method has known great success, particularly in the M3-competition.\n",
    "\n",
    "Though the value of the Theta parameter is mainly set to 0 in applications, our implementation supports a variable value for parameter tuning purposes. As an example, we will apply this process to our Air Passenger data."
   ]
  },
  {
   "cell_type": "code",
   "execution_count": null,
   "metadata": {},
   "outputs": [],
   "source": [
    "# theta = 0 is the default parameter.\n",
    "model_theta_0 = Theta(mode='add')\n",
    "\n",
    "# We know that there is a yearly seasonality, so we include the parameter season_period.\n",
    "model_theta_0.fit(train, season_period = 365)\n",
    "pred_theta_0 = model_theta_0.predict(len(val))\n",
    "\n",
    "print('The MASE is: {:.3f}'.format(mase(val, pred_theta_0, 365)))"
   ]
  },
  {
   "cell_type": "code",
   "execution_count": null,
   "metadata": {},
   "outputs": [],
   "source": [
    "train.plot(lw=2, label='train')\n",
    "val.plot(lw=2, label='true')\n",
    "pred_theta_0.plot(lw=2, label='prediction')\n",
    "plt.legend()"
   ]
  },
  {
   "cell_type": "markdown",
   "metadata": {},
   "source": [
    "Clearly this prediction not as good as the exponential smoothing above. But what about different values of theta?"
   ]
  },
  {
   "cell_type": "code",
   "execution_count": null,
   "metadata": {},
   "outputs": [],
   "source": [
    "# Search for the best theta parameter.\n",
    "thetas = np.linspace(-10, 10, 200)\n",
    "\n",
    "\n",
    "# The best configuration is, for now, the only one we know: with theta = 0, computed above.\n",
    "best_mase = 1\n",
    "best_theta = 0\n",
    "\n",
    "for theta in thetas:\n",
    "    model = Theta(theta, mode='add')\n",
    "    model.fit(train, 365)\n",
    "    pred_theta = model.predict(len(val))\n",
    "    res = mase(val, pred_theta, 365)\n",
    "    \n",
    "    if res < best_mase:\n",
    "        best_mase = res\n",
    "        best_theta = theta"
   ]
  },
  {
   "cell_type": "code",
   "execution_count": null,
   "metadata": {},
   "outputs": [],
   "source": [
    "model = Theta(best_theta)\n",
    "model.fit(train, 365)\n",
    "pred_best_theta = model.predict(len(val))\n",
    "\n",
    "print('The MASE is: {:.3f}, with theta = {}.'.format(mase(val, pred_best_theta, 364), best_theta))"
   ]
  },
  {
   "cell_type": "code",
   "execution_count": null,
   "metadata": {},
   "outputs": [],
   "source": [
    "train.plot(lw=2, label='train')\n",
    "val.plot(lw=2, label='true')\n",
    "pred_best_theta.plot(lw=2, label='prediction')\n",
    "plt.legend()\n",
    "plt.show()"
   ]
  },
  {
   "cell_type": "markdown",
   "metadata": {},
   "source": [
    "# RNN "
   ]
  },
  {
   "cell_type": "code",
   "execution_count": null,
   "metadata": {},
   "outputs": [],
   "source": [
    "train, val = series.split_after(pd.Timestamp('19890101'))"
   ]
  },
  {
   "cell_type": "code",
   "execution_count": null,
   "metadata": {},
   "outputs": [],
   "source": [
    "# Number of features/channels used as input.\n",
    "INPUT_SIZE = 1\n",
    "# Number of previous time stamps taken into account.\n",
    "INPUT_LENGTH = 365\n",
    "# Number of features in last hidden state\n",
    "HIDDEN_SIZE = 25\n",
    "# number of output time-steps to predict\n",
    "OUTPUT_LENGTH = 1\n",
    "# Number of stacked rnn layers.\n",
    "NUM_LAYERS = 1"
   ]
  },
  {
   "cell_type": "code",
   "execution_count": null,
   "metadata": {},
   "outputs": [],
   "source": [
    "my_model = RNNModel('LSTM', INPUT_SIZE, OUTPUT_LENGTH, INPUT_LENGTH, HIDDEN_SIZE, NUM_LAYERS, \n",
    "                    batch_size=128, n_epochs=600, exp_name='Temp_LSTM', vis_tb=True)"
   ]
  },
  {
   "cell_type": "code",
   "execution_count": null,
   "metadata": {},
   "outputs": [],
   "source": [
    "my_model.set_optimizer(torch.optim.Adam, learning_rate=4e-3)\n",
    "my_model.set_scheduler(torch.optim.lr_scheduler.ExponentialLR, gamma=0.995)"
   ]
  },
  {
   "cell_type": "code",
   "execution_count": null,
   "metadata": {},
   "outputs": [],
   "source": [
    "my_model.set_val_series(val)"
   ]
  },
  {
   "cell_type": "code",
   "execution_count": null,
   "metadata": {},
   "outputs": [],
   "source": [
    "my_model.fit(train)"
   ]
  },
  {
   "cell_type": "code",
   "execution_count": null,
   "metadata": {},
   "outputs": [],
   "source": [
    "my_model.plot_result_train()"
   ]
  },
  {
   "cell_type": "code",
   "execution_count": null,
   "metadata": {},
   "outputs": [],
   "source": [
    "my_model.test_series(val)"
   ]
  },
  {
   "cell_type": "code",
   "execution_count": null,
   "metadata": {},
   "outputs": [],
   "source": [
    "pred_series = my_model.predict(800)\n",
    "val.plot()\n",
    "pred_series.plot()"
   ]
  }
 ],
 "metadata": {
  "kernelspec": {
   "display_name": "Python 3",
   "language": "python",
   "name": "python3"
  },
  "language_info": {
   "codemirror_mode": {
    "name": "ipython",
    "version": 3
   },
   "file_extension": ".py",
   "mimetype": "text/x-python",
   "name": "python",
   "nbconvert_exporter": "python",
   "pygments_lexer": "ipython3",
   "version": "3.7.6"
  }
 },
 "nbformat": 4,
 "nbformat_minor": 2
}
